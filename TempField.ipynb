{
 "cells": [
  {
   "cell_type": "code",
   "execution_count": 7,
   "id": "3c45cc3a-f977-46cb-b6ab-0a680887b441",
   "metadata": {},
   "outputs": [],
   "source": [
    "# vivarium imports\n",
    "from vivarium.core.engine import Engine\n",
    "from vivarium.plots.topology import plot_topology\n",
    "\n",
    "# vivarium-comets imports\n",
    "from processes.temperature_field import TemperatureField\n",
    "from plots.field import plot_fields_temporal_to_gif"
   ]
  },
  {
   "cell_type": "code",
   "execution_count": 8,
   "id": "d3dabe14-2ce6-4382-8bef-6b20760c658d",
   "metadata": {},
   "outputs": [
    {
     "data": {
      "image/png": "[encoded data removed]",
      "text/plain": [
       "<Figure size 400x700 with 1 Axes>"
      ]
     },
     "metadata": {},
     "output_type": "display_data"
    }
   ],
   "source": [
    "temperature_field = TemperatureField({})\n",
    "fig = plot_topology(temperature_field)"
   ]
  },
  {
   "cell_type": "code",
   "execution_count": 12,
   "id": "3bf52289-1b84-44db-9814-cc79f144ba25",
   "metadata": {},
   "outputs": [],
   "source": [
    "# Temperature simulation function\n",
    "def temperature_field (config, total_time):\n",
    "    # create the process and make a simulation\n",
    "    temperature_field = TemperatureField (config)\n",
    "    initial_state = temperature_field.initial_state()\n",
    "\n",
    "    sim = Engine(\n",
    "        initial_state=initial_state,\n",
    "        processes={'temperature_process': temperature_field},\n",
    "        topology={'temperature_process': {\n",
    "            'fields': ('fields',),\n",
    "            'time': ('time',),\n",
    "        }}\n",
    "    )\n",
    "    # Run the simulation\n",
    "    sim.update(total_time)\n",
    "    \n",
    "    # Get the results\n",
    "    data = sim.emitter.get_timeseries()\n",
    "    \n",
    "    return data"
   ]
  },
  {
   "cell_type": "code",
   "execution_count": 14,
   "id": "41834808-f0bb-4cd4-91a0-5341a0b0860a",
   "metadata": {},
   "outputs": [
    {
     "name": "stdout",
     "output_type": "stream",
     "text": [
      "\n",
      "Simulation ID: 578805fc-526c-11ef-a03f-ba21c95c07d9\n",
      "Created: 08/04/2024 at 10:17:55\n",
      "Completed in 0.008111 seconds\n"
     ]
    }
   ],
   "source": [
    "total_time = 120\n",
    "config = {\n",
    "    'surface_temperature': 25.0,  # Surface temperature in degrees Celsius\n",
    "    'gradient': 0.03,  # Temperature gradient in degrees Celsius per meter\n",
    "    'bounds': [10, 4],  # Grid bounds (width, height)\n",
    "    'nbins': [10, 4],  # Number of bins in the grid (rows, columns)\n",
    "    'start_hour': 0,  # Starting hour of the simulation\n",
    "    }\n",
    "\n",
    "\n",
    "# run a simulation\n",
    "data = temperature_field(config, total_time)"
   ]
  },
  {
   "cell_type": "code",
   "execution_count": 20,
   "id": "4d137b5e-b0bd-4152-9a0e-596f366cbc71",
   "metadata": {},
   "outputs": [
    {
     "data": {
      "text/plain": [
       "[[25.1, 25.1, 25.1, 25.1],\n",
       " [24.5, 24.5, 24.5, 24.5],\n",
       " [23.900000000000002,\n",
       "  23.900000000000002,\n",
       "  23.900000000000002,\n",
       "  23.900000000000002],\n",
       " [23.3, 23.3, 23.3, 23.3],\n",
       " [22.700000000000003,\n",
       "  22.700000000000003,\n",
       "  22.700000000000003,\n",
       "  22.700000000000003],\n",
       " [22.1, 22.1, 22.1, 22.1],\n",
       " [21.5, 21.5, 21.5, 21.5],\n",
       " [20.900000000000002,\n",
       "  20.900000000000002,\n",
       "  20.900000000000002,\n",
       "  20.900000000000002],\n",
       " [20.3, 20.3, 20.3, 20.3],\n",
       " [19.700000000000003,\n",
       "  19.700000000000003,\n",
       "  19.700000000000003,\n",
       "  19.700000000000003]]"
      ]
     },
     "execution_count": 20,
     "metadata": {},
     "output_type": "execute_result"
    }
   ],
   "source": [
    "data['fields']['temperature'][120]"
   ]
  },
  {
   "cell_type": "code",
   "execution_count": 22,
   "id": "1187a721-f2eb-4ee3-8239-611204b8ea52",
   "metadata": {},
   "outputs": [
    {
     "ename": "TypeError",
     "evalue": "plot_fields_temporal_to_gif() missing 1 required positional argument: 'species_data'",
     "output_type": "error",
     "traceback": [
      "\u001b[0;31m---------------------------------------------------------------------------\u001b[0m",
      "\u001b[0;31mTypeError\u001b[0m                                 Traceback (most recent call last)",
      "Cell \u001b[0;32mIn[22], line 6\u001b[0m\n\u001b[1;32m      3\u001b[0m skip_steps \u001b[38;5;241m=\u001b[39m \u001b[38;5;241m1\u001b[39m\n\u001b[1;32m      4\u001b[0m desired_time_list \u001b[38;5;241m=\u001b[39m [i \u001b[38;5;28;01mfor\u001b[39;00m i \u001b[38;5;129;01min\u001b[39;00m \u001b[38;5;28mrange\u001b[39m(\u001b[38;5;241m0\u001b[39m, total_time, skip_steps)]\n\u001b[0;32m----> 6\u001b[0m \u001b[43mplot_fields_temporal_to_gif\u001b[49m\u001b[43m(\u001b[49m\n\u001b[1;32m      7\u001b[0m \u001b[43m    \u001b[49m\u001b[43mdata\u001b[49m\u001b[43m[\u001b[49m\u001b[38;5;124;43m'\u001b[39;49m\u001b[38;5;124;43mfields\u001b[39;49m\u001b[38;5;124;43m'\u001b[39;49m\u001b[43m]\u001b[49m\u001b[43m,\u001b[49m\u001b[43m \u001b[49m\n\u001b[1;32m      8\u001b[0m \u001b[43m    \u001b[49m\u001b[43mplot_fields\u001b[49m\u001b[38;5;241;43m=\u001b[39;49m\u001b[43m[\u001b[49m\u001b[38;5;124;43m'\u001b[39;49m\u001b[38;5;124;43mtemperature\u001b[39;49m\u001b[38;5;124;43m'\u001b[39;49m\u001b[43m]\u001b[49m\u001b[43m,\u001b[49m\n\u001b[1;32m      9\u001b[0m \u001b[43m    \u001b[49m\u001b[43mdesired_time_points\u001b[49m\u001b[38;5;241;43m=\u001b[39;49m\u001b[43mdesired_time_list\u001b[49m\u001b[43m,\u001b[49m\u001b[43m \u001b[49m\n\u001b[1;32m     10\u001b[0m \u001b[43m    \u001b[49m\u001b[43mactual_time_points\u001b[49m\u001b[38;5;241;43m=\u001b[39;49m\u001b[43mactual_time_list\u001b[49m\u001b[43m,\u001b[49m\u001b[43m \u001b[49m\n\u001b[1;32m     11\u001b[0m \u001b[43m    \u001b[49m\u001b[43mfilename\u001b[49m\u001b[38;5;241;43m=\u001b[39;49m\u001b[38;5;124;43m'\u001b[39;49m\u001b[38;5;124;43mtemp_over_time.gif\u001b[39;49m\u001b[38;5;124;43m'\u001b[39;49m\n\u001b[1;32m     12\u001b[0m \u001b[43m)\u001b[49m\n",
      "\u001b[0;31mTypeError\u001b[0m: plot_fields_temporal_to_gif() missing 1 required positional argument: 'species_data'"
     ]
    }
   ],
   "source": [
    "# Making the plot\n",
    "actual_time_list = [i for i in range(total_time)]\n",
    "skip_steps = 1\n",
    "desired_time_list = [i for i in range(0, total_time, skip_steps)]\n",
    "\n",
    "plot_fields_temporal_to_gif(\n",
    "    data['fields'], \n",
    "    plot_fields=['temperature'],\n",
    "    desired_time_points=desired_time_list, \n",
    "    actual_time_points=actual_time_list, \n",
    "    filename='temp_over_time.gif'\n",
    ")"
   ]
  },
  {
   "cell_type": "code",
   "execution_count": null,
   "id": "40511fde-2f06-4c28-bc82-4776c784f3d2",
   "metadata": {},
   "outputs": [],
   "source": []
  }
 ],
 "metadata": {
  "kernelspec": {
   "display_name": "Python 3 (ipykernel)",
   "language": "python",
   "name": "python3"
  },
  "language_info": {
   "codemirror_mode": {
    "name": "ipython",
    "version": 3
   },
   "file_extension": ".py",
   "mimetype": "text/x-python",
   "name": "python",
   "nbconvert_exporter": "python",
   "pygments_lexer": "ipython3",
   "version": "3.11.5"
  }
 },
 "nbformat": 4,
 "nbformat_minor": 5
}
