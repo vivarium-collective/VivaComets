{
 "cells": [
  {
   "cell_type": "code",
   "execution_count": 2,
   "id": "c88b9317",
   "metadata": {},
   "outputs": [],
   "source": [
    "import cobra"
   ]
  },
  {
   "cell_type": "code",
   "execution_count": 1,
   "id": "4949e08f",
   "metadata": {},
   "outputs": [
    {
     "name": "stdout",
     "output_type": "stream",
     "text": [
      "EX_ac_e: ac_e --> \n",
      "EX_acald_e: acald_e --> \n",
      "EX_akg_e: akg_e --> \n",
      "EX_co2_e: co2_e <=> \n",
      "EX_etoh_e: etoh_e --> \n",
      "EX_for_e: for_e --> \n",
      "EX_fru_e: fru_e --> \n",
      "EX_fum_e: fum_e --> \n",
      "EX_glc__D_e: glc__D_e <=> \n",
      "EX_gln__L_e: gln__L_e --> \n",
      "EX_glu__L_e: glu__L_e --> \n",
      "EX_h_e: h_e <=> \n",
      "EX_h2o_e: h2o_e <=> \n",
      "EX_lac__D_e: lac__D_e --> \n",
      "EX_mal__L_e: mal__L_e --> \n",
      "EX_nh4_e: nh4_e <=> \n",
      "EX_o2_e: o2_e <=> \n",
      "EX_pi_e: pi_e <=> \n",
      "EX_pyr_e: pyr_e --> \n",
      "EX_succ_e: succ_e --> \n"
     ]
    }
   ],
   "source": [
    "\n",
    "# Load the SBML file\n",
    "model = cobra.io.read_sbml_model('e_coli_core.xml')\n",
    "\n",
    "# Iterate through the model's reactions to find exchange reactions\n",
    "# Exchange reactions are those that either take up or secrete compounds to/from the extracellular space\n",
    "exchange_fluxes = [rxn for rxn in model.reactions if rxn.id.startswith('EX_')]\n",
    "\n",
    "# Print the exchange reactions\n",
    "for flux in exchange_fluxes:\n",
    "    print(f\"{flux.id}: {flux.reaction}\")\n"
   ]
  },
  {
   "cell_type": "code",
   "execution_count": 3,
   "id": "947e7807",
   "metadata": {},
   "outputs": [
    {
     "name": "stderr",
     "output_type": "stream",
     "text": [
      "'' is not a valid SBML 'SId'.\n"
     ]
    },
    {
     "name": "stdout",
     "output_type": "stream",
     "text": [
      "EX_cpd00058_e0: cpd00058_e0 <=> \n",
      "EX_cpd00065_e0: cpd00065_e0 <=> \n",
      "EX_cpd03726_e0: cpd03726_e0 <=> \n",
      "EX_cpd00039_e0: cpd00039_e0 <=> \n",
      "EX_cpd00322_e0: cpd00322_e0 <=> \n",
      "EX_cpd03453_e0: cpd03453_e0 <=> \n",
      "EX_cpd00644_e0: cpd00644_e0 <=> \n",
      "EX_cpd00007_e0: cpd00007_e0 <=> \n",
      "EX_cpd00971_e0: cpd00971_e0 <=> \n",
      "EX_cpd00132_e0: cpd00132_e0 <=> \n",
      "EX_cpd00035_e0: cpd00035_e0 <=> \n",
      "EX_cpd00393_e0: cpd00393_e0 <=> \n",
      "EX_cpd00063_e0: cpd00063_e0 <=> \n",
      "EX_cpd00028_e0: cpd00028_e0 <=> \n",
      "EX_cpd01080_e0: cpd01080_e0 <=> \n",
      "EX_cpd00048_e0: cpd00048_e0 <=> \n",
      "EX_cpd00218_e0: cpd00218_e0 <=> \n",
      "EX_cpd00017_e0: cpd00017_e0 <=> \n",
      "EX_cpd00107_e0: cpd00107_e0 <=> \n",
      "EX_cpd00067_e0: cpd00067_e0 <=> \n",
      "EX_cpd00051_e0: cpd00051_e0 <=> \n",
      "EX_cpd00116_e0: cpd00116_e0 <=> \n",
      "EX_cpd00100_e0: cpd00100_e0 <=> \n",
      "EX_cpd03847_e0: cpd03847_e0 <=> \n",
      "EX_cpd00069_e0: cpd00069_e0 <=> \n",
      "EX_cpd10516_e0: cpd10516_e0 <=> \n",
      "EX_cpd00054_e0: cpd00054_e0 <=> \n",
      "EX_cpd00119_e0: cpd00119_e0 <=> \n",
      "EX_cpd00142_e0: cpd00142_e0 <=> \n",
      "EX_cpd00254_e0: cpd00254_e0 <=> \n",
      "EX_cpd00029_e0: cpd00029_e0 <=> \n",
      "EX_cpd00084_e0: cpd00084_e0 <=> \n",
      "EX_cpd00053_e0: cpd00053_e0 <=> \n",
      "EX_cpd00118_e0: cpd00118_e0 <=> \n",
      "EX_cpd00027_e0: cpd00027_e0 <=> \n",
      "EX_cpd00156_e0: cpd00156_e0 <=> \n",
      "EX_cpd00009_e0: cpd00009_e0 <=> \n",
      "EX_cpd00047_e0: cpd00047_e0 <=> \n",
      "EX_cpd00211_e0: cpd00211_e0 <=> \n",
      "EX_cpd00305_e0: cpd00305_e0 <=> \n",
      "EX_cpd00214_e0: cpd00214_e0 <=> \n",
      "EX_cpd00129_e0: cpd00129_e0 <=> \n",
      "EX_cpd00220_e0: cpd00220_e0 <=> \n",
      "EX_cpd00264_e0: cpd00264_e0 <=> \n",
      "EX_cpd00041_e0: cpd00041_e0 <=> \n",
      "EX_cpd00205_e0: cpd00205_e0 <=> \n",
      "EX_cpd00013_e0: cpd00013_e0 <=> \n",
      "EX_cpd00099_e0: cpd00099_e0 <=> \n",
      "EX_cpd00104_e0: cpd00104_e0 <=> \n",
      "EX_cpd00011_e0: cpd00011_e0 <=> \n",
      "EX_cpd00215_e0: cpd00215_e0 <=> \n",
      "EX_cpd00030_e0: cpd00030_e0 <=> \n",
      "EX_cpd00066_e0: cpd00066_e0 <=> \n",
      "EX_cpd00075_e0: cpd00075_e0 <=> \n",
      "EX_cpd00001_e0: cpd00001_e0 <=> \n",
      "EX_cpd00635_e0: cpd00635_e0 <=> \n",
      "EX_cpd00023_e0: cpd00023_e0 <=> \n",
      "EX_cpd00034_e0: cpd00034_e0 <=> \n",
      "EX_cpd00161_e0: cpd00161_e0 <=> \n",
      "EX_cpd00149_e0: cpd00149_e0 <=> \n",
      "EX_cpd00033_e0: cpd00033_e0 <=> \n",
      "EX_cpd00060_e0: cpd00060_e0 <=> \n"
     ]
    }
   ],
   "source": [
    "# Load the SBML file\n",
    "model = cobra.io.read_sbml_model('Alteromonas_Model.xml')\n",
    "\n",
    "exchange_fluxes = [rxn for rxn in model.reactions if rxn.id.startswith('EX_')]\n",
    "\n",
    "# Print the exchange reactions\n",
    "for flux in exchange_fluxes:\n",
    "    print(f\"{flux.id}: {flux.reaction}\")"
   ]
  },
  {
   "cell_type": "code",
   "execution_count": null,
   "id": "02265c5c",
   "metadata": {},
   "outputs": [],
   "source": []
  }
 ],
 "metadata": {
  "kernelspec": {
   "display_name": "Python 3",
   "language": "python",
   "name": "python3"
  },
  "language_info": {
   "codemirror_mode": {
    "name": "ipython",
    "version": 3
   },
   "file_extension": ".py",
   "mimetype": "text/x-python",
   "name": "python",
   "nbconvert_exporter": "python",
   "pygments_lexer": "ipython3",
   "version": "3.8.5"
  }
 },
 "nbformat": 4,
 "nbformat_minor": 5
}
