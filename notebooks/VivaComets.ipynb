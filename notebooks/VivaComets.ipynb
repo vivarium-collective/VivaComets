{
 "cells": [
  {
   "cell_type": "markdown",
   "id": "98d9de58-496d-4fac-af3d-108fd3d4a469",
   "metadata": {},
   "source": [
    "## Vivacomet\n",
    "**Vivacomet Notebook, is the combination of diffusion notebook and spatial dFBA notebook.** \n",
    "It simulates the environment and growth of organisms within it. The environment is represented as a grid, where each bin contains specific amounts of various molecules that organisms in that bin can utilize. The simulation takes into account the diffusion and advection of molecules, as well as the biomass of species. Additionally, Vivacomet simulates the growth of organisms in each bin, which is influenced by the availability of molecules in that bin."
   ]
  },
  {
   "cell_type": "code",
   "execution_count": 1,
   "id": "dc3cf2f7-4d45-4de4-bdf2-fcdd63cb827d",
   "metadata": {},
   "outputs": [],
   "source": [
    "# Standard library imports\n",
    "import os\n",
    "import io\n",
    "import shutil\n",
    "import base64\n",
    "\n",
    "# Third-party library imports\n",
    "import numpy as np\n",
    "import matplotlib.pyplot as plt\n",
    "import imageio.v2 as imageio\n",
    "from IPython.display import display, HTML\n",
    "from PIL import Image \n",
    "\n",
    "# Project-Specific Imports\n",
    "from processes.diffusion_field import DiffusionField\n",
    "from processes.spatial_dfba import SpatialDFBA\n",
    "from experiments.comets import run_comets\n",
    "from plots.cometsplot import plot_elements_to_gif, combine_gifs\n",
    "\n",
    "# Vivarium imports\n",
    "from vivarium.core.engine import Engine\n",
    "from vivarium.plots.topology import plot_topology"
   ]
  },
  {
   "cell_type": "code",
   "execution_count": null,
   "id": "b0f4d448-4ae8-40ca-a98f-d8d817dfa9ec",
   "metadata": {},
   "outputs": [
    {
     "name": "stderr",
     "output_type": "stream",
     "text": [
      "ERROR:cobra.io.sbml:'' is not a valid SBML 'SId'.\n"
     ]
    }
   ],
   "source": [
    "diffusion_field = DiffusionField({})\n",
    "spatial_dfba = SpatialDFBA({'flux_id_map': {}})\n",
    "composite = {\n",
    "    'processes': {\n",
    "        'diffusion_process': diffusion_field,\n",
    "        'fba_process': spatial_dfba\n",
    "    },\n",
    "    'topology': {\n",
    "        'diffusion_process': {\n",
    "            'fields': ('fields',),\n",
    "            'species': ('species',),\n",
    "            'dimensions': ('dimensions',),\n",
    "        },\n",
    "        'fba_process': {\n",
    "            'fields': ('fields',),\n",
    "            'species': ('species',),\n",
    "            'exchange_fluxes': ('exchange_fluxes',),\n",
    "            'dimensions': ('dimensions',),\n",
    "        }\n",
    "    },\n",
    "    'steps': {}  # Include an empty 'steps' key\n",
    "}\n",
    "\n",
    "# Plot the topology\n",
    "fig = plot_topology(\n",
    "    composite,\n",
    "    out_dir='out',\n",
    "    filename='composite_process_topology'\n",
    ")\n",
    "\n",
    "# Display the plot\n",
    "plt.show()"
   ]
  },
  {
   "cell_type": "code",
   "execution_count": null,
   "id": "13b400b5-af38-4175-a40c-08503e672dd4",
   "metadata": {
    "scrolled": true
   },
   "outputs": [],
   "source": [
    "# Configuration\n",
    "comets_config = {\n",
    "    'total_time':10 ,\n",
    "    'time_step': 1,\n",
    "    'bounds': [10, 4],\n",
    "    'nbins': [10, 4],\n",
    "    'molecules': ['glucose', 'acetate', 'Maltose'],\n",
    "    'species': ['Thermotoga', 'ecoli'],\n",
    "}\n",
    "\n",
    "# Parameters shared by both processes\n",
    "shared_params = {\n",
    "    'bounds': comets_config['bounds'],\n",
    "    'nbins': comets_config['nbins'],\n",
    "    'molecules': comets_config['molecules'],\n",
    "    'species':comets_config['species']\n",
    "}\n",
    "\n",
    "# Specific parameters for Diffusion Field\n",
    "diffusion_field_params = {\n",
    "    **shared_params,\n",
    "    'default_diffusion_dt': 0.0001,\n",
    "    'default_diffusion_rate': 0.0001, #2E-5,\n",
    "    'diffusion': {\n",
    "        'glucose': 0, #2.0E-2,\n",
    "        'acetate':0, #2.0E-2,\n",
    "        'Maltose':0, #2.0E-2,\n",
    "        'Thermotoga': 0, #1.0E-2, \n",
    "        'ecoli': 0, #1.0E-2 \n",
    "    },\n",
    "    'advection': {\n",
    "        'glucose':(0, 0) , #(2.02, -0.7),\n",
    "        'acetate':(0, 0) , #(2.02, -0.5),\n",
    "        'Maltose': (0, 0), #(2.02, -1),\n",
    "        'Thermotoga':(0, -1), # advection vector \n",
    "        'ecoli': (0, 0)\n",
    "    },\n",
    "    'clamp_edges': {\n",
    "        'glucose': 0.5, \n",
    "        'Maltose': 0.5,\n",
    "        'acetate': 10,\n",
    "    }\n",
    "}\n",
    "\n",
    "\n",
    "\n",
    "# Specific parameters for Spatial DFBA\n",
    "spatial_dfba_params = {\n",
    "    **shared_params,\n",
    "    'species_info': [\n",
    "        {\n",
    "            'name': 'Thermotoga',\n",
    "            'model': '../data/iLJ478.xml',  # Path to FBA model file \n",
    "            'flux_id_map': {\n",
    "                'glucose': 'EX_glc__D_e',\n",
    "                'acetate': \"EX_ac_e\",\n",
    "                'Maltose': \"EX_malt_e\"\n",
    "            },\n",
    "            'kinetic_params': {\n",
    "                'glucose': (0.1, 1),  # Km, Vmax for glucose\n",
    "                'Maltose': (0.1, 0.8)\n",
    "            },\n",
    "            # \"fixed_bounds\": {\n",
    "            #     'EX_cpd00058_e0': {'lower': -1, 'upper': 1},\n",
    "            # }\n",
    "        },\n",
    "        {\n",
    "            'name': 'ecoli',\n",
    "            'model': '../data/iECW_1372.xml',  # Path to E. coli model file\n",
    "            'flux_id_map': {\n",
    "                'glucose': 'EX_glc__D_e',\n",
    "                'acetate': 'EX_ac_e',       # Exchange reaction ID for acetate\n",
    "                \"Maltose\": \"EX_malt_e\"\n",
    "            },\n",
    "            'kinetic_params': {\n",
    "                'glucose': (0.1, 1.0)  #(0.4, 5),  # Km, Vmax for glucose\n",
    "                # 'acetate': (0.1, 1.0),  #(0.4, 5),  # Km, Vmax for glucose\n",
    "            },\n",
    "            'fixed_bounds': {\n",
    "                'EX_o2_e': {'lower': -2},  # Setting fixed bounds for E. coli\n",
    "                'ATPM': {'lower': 1, 'upper': 1}  # Setting fixed bounds for E. coli\n",
    "            #         'EX_fe3dhbzs_e': (0, 10)  # Setting fixed bounds for E. coli\n",
    "            }\n",
    "        }\n",
    "    ]\n",
    "    \n",
    "}\n",
    "\n",
    "\n",
    "# Initial state configuration\n",
    "\n",
    "initial_field_config = {\n",
    "    'uniform': {\n",
    "        'glucose': 200.0,\n",
    "        'Maltose': 200.0,\n",
    "    }\n",
    "}\n",
    "\n",
    "initial_species_config = {\n",
    "    'uniform': {\n",
    "        'species': {\n",
    "            'ecoli': 0.5,\n",
    "            'Thermotoga': 0.5\n",
    "        }\n",
    "    }\n",
    "}\n",
    "\n",
    "\n",
    "# Run the simulation\n",
    "data = run_comets(comets_config, diffusion_field_params, spatial_dfba_params, initial_field_config, initial_species_config)"
   ]
  },
  {
   "cell_type": "code",
   "execution_count": null,
   "id": "2180ae24-40c2-4fa0-93ad-1efe4bdd8b78",
   "metadata": {},
   "outputs": [],
   "source": [
    "data['species']['ecoli'][10][1][3]"
   ]
  },
  {
   "cell_type": "code",
   "execution_count": null,
   "id": "c04e5071-1888-40b1-90d9-04fcb8590b85",
   "metadata": {},
   "outputs": [],
   "source": [
    "data['species']['ecoli'][10][8][3]"
   ]
  },
  {
   "cell_type": "markdown",
   "id": "acf89da4-0b6c-4167-9f92-14e26bc984b2",
   "metadata": {},
   "source": [
    "## plot\n",
    "This grid plot visualizes the temporal changes of biomass (E. coli, Alteromonas, and total) in the top row, while the bottom row depicts the evolving concentrations of glucose and acetate molecules across the grid, influenced by diffusion, advection, and sinking."
   ]
  },
  {
   "cell_type": "code",
   "execution_count": null,
   "id": "0227849c-1ac1-44dd-a7de-27be75e2da61",
   "metadata": {},
   "outputs": [],
   "source": [
    "# Define constants and configurations\n",
    "TOTAL_TIME = comets_config[\"total_time\"]\n",
    "TEMP_DIR = 'temp_images'\n",
    "\n",
    "# Ensure the temp directory exists\n",
    "os.makedirs(TEMP_DIR, exist_ok=True)\n",
    "\n",
    "# Dynamically retrieve species and molecules from the data\n",
    "species_names = [species['name'] for species in spatial_dfba_params['species_info']]\n",
    "molecule_names = comets_config['molecules']\n",
    "\n",
    "# Plot species and total biomass\n",
    "plot_elements_to_gif(data, total_time=TOTAL_TIME, element_names=species_names, data_key='species', temp_dir=TEMP_DIR, file_prefix='obj_flux', include_total_biomass=True)\n",
    "\n",
    "# Plot molecules (including 'Maltose')\n",
    "plot_elements_to_gif(data, total_time=TOTAL_TIME, element_names=molecule_names, data_key='fields', temp_dir=TEMP_DIR, file_prefix='molecule')\n",
    "\n",
    "# Combine GIFs\n",
    "combine_gifs('out/combined_over_time.gif', TEMP_DIR, TOTAL_TIME + 1)\n",
    "\n",
    "# Clean up temporary directory\n",
    "shutil.rmtree(TEMP_DIR)"
   ]
  },
  {
   "cell_type": "code",
   "execution_count": null,
   "id": "024a07e9-5626-4761-b2dc-6a62d102910a",
   "metadata": {},
   "outputs": [],
   "source": []
  },
  {
   "cell_type": "markdown",
   "id": "5cde16e3-b558-4a9f-8c33-3aee0bfc4805",
   "metadata": {},
   "source": [
    "Modify the following code in a way to have diffuse and advection in saparated functions. If field is not uniform we should have both diffuse and advection. If field is uniform we should only have advection and we should not have diffusion. In other words, Always apply advection regardless of field variance but apply advection and diffusion when the field is not uniform. \n",
    "hint:"
   ]
  },
  {
   "cell_type": "code",
   "execution_count": null,
   "id": "73801818-6e7e-43f9-bb99-351e8706ecc9",
   "metadata": {},
   "outputs": [],
   "source": [
    "def diffuse(self, field, timestep, diffusion_rate, constant_value=None):\n",
    "        if field.ndim == 2:    \n",
    "            laplacian_kernel = np.array([[0,  1, 0],\n",
    "                                         [1, -4, 1],\n",
    "                                         [0,  1, 0]])\n",
    "            \n",
    "        else:\n",
    "            raise ValueError('Field must be 1D, 2D, or 3D')\n",
    "        t = 0.0\n",
    "        dt = min(timestep, self.diffusion_dt)\n",
    "        while t < timestep:\n",
    "            if constant_value:\n",
    "                laplacian = convolve(field, laplacian_kernel, mode='constant', cval=constant_value) * diffusion_rate\n",
    "            else:\n",
    "                laplacian = convolve(field, laplacian_kernel, mode='nearest') * diffusion_rate\n",
    "            field += dt * (laplacian )\n",
    "            t += dt\n",
    "        return field"
   ]
  },
  {
   "cell_type": "markdown",
   "id": "6e9d3567-41de-41fa-861f-4b45cd084afe",
   "metadata": {},
   "source": [
    "Modify the code in a way to set the top row zero for species when the field in uniform. Hint:"
   ]
  },
  {
   "cell_type": "code",
   "execution_count": null,
   "id": "267264c0-c021-475f-a9d7-4c1ec493eb3d",
   "metadata": {},
   "outputs": [],
   "source": [
    "# make top row 0 for the species\n",
    "    for sid, array in initial_species['species'].items():\n",
    "        initial_species['species'][sid][0,:] = 0"
   ]
  },
  {
   "cell_type": "markdown",
   "id": "3bf0055d-a26d-4930-ba54-6ce306cba61b",
   "metadata": {},
   "source": [
    "Do the same thing for molecules. in other words, Modify the code in a way to set the top row zero for molecules when the field in uniform."
   ]
  }
 ],
 "metadata": {
  "kernelspec": {
   "display_name": "Python 3 (ipykernel)",
   "language": "python",
   "name": "python3"
  },
  "language_info": {
   "codemirror_mode": {
    "name": "ipython",
    "version": 3
   },
   "file_extension": ".py",
   "mimetype": "text/x-python",
   "name": "python",
   "nbconvert_exporter": "python",
   "pygments_lexer": "ipython3",
   "version": "3.11.5"
  }
 },
 "nbformat": 4,
 "nbformat_minor": 5
}
