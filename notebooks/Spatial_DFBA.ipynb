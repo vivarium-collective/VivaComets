{
 "cells": [
  {
   "cell_type": "markdown",
   "id": "70505ff9-5ea5-4568-9365-35e6e3c469bc",
   "metadata": {},
   "source": [
    "# Spatial DFBA Model\n",
    "\n",
    "This notebook demonstrates a Spatial Dynamic Flux Balance Analysis (DFBA) model, simulating and visualizing biomass concentrations over time in a two-dimensional (2D) field. The model integrates diffusion, advection, and sinking mechanisms to show how these processes influence biomass distributions at each timestep across the grid bins.\n",
    "\n",
    "**Key components of the notebook:**\n",
    "- **Initialization**: Setting up the spatial environment with defined bounds, bins, and initial states for molecules and species.\n",
    "- **Process Simulation**: Using the `SpatialDFBA` class to simulate species growth based on local conditions and kinetic parameters.\n",
    "- **Diffusion and Advection**: Applying diffusion and advection processes to update molecule concentrations and biomass distributions.\n",
    "- **Visualization**: Plotting the objective flux and spatial fields to visualize biomass and molecule concentrations over time.\n",
    "\n",
    "Run the notebook to observe how different species interact and grow in a spatially heterogeneous environment, influenced by diffusion, advection, and sinking mechanisms.\n"
   ]
  },
  {
   "cell_type": "markdown",
   "id": "dd712d18-e9f7-4248-98f1-99e7c36b1ca7",
   "metadata": {},
   "source": [
    "## Imports"
   ]
  },
  {
   "cell_type": "code",
   "execution_count": 1,
   "id": "f82af0c9-9b10-423d-99fa-2c378067e1a2",
   "metadata": {},
   "outputs": [],
   "source": [
    "import os\n",
    "import numpy as np\n",
    "from matplotlib import pyplot as plt\n",
    "from vivarium.core.engine import Engine\n",
    "from processes.spatial_dfba import SpatialDFBA\n",
    "from plots.field import plot_objective_flux, plot_fields_temporal\n",
    "from IPython.display import display, HTML\n",
    "import imageio.v2 as imageio\n",
    "import io\n",
    "import base64"
   ]
  },
  {
   "cell_type": "code",
   "execution_count": 2,
   "id": "9ea7c25e-30f0-4de8-b959-760805a10cf6",
   "metadata": {},
   "outputs": [
    {
     "name": "stdout",
     "output_type": "stream",
     "text": [
      "Current Working Directory: /Users/amin/Desktop/VivaComet\n"
     ]
    }
   ],
   "source": [
    "### XXXXX FIX THIS ISSUE #####\n",
    "base_directory = '/Users/amin/Desktop/VivaComet'\n",
    "os.chdir(base_directory)\n",
    "\n",
    "# Check the current working directory to confirm it's set correctly\n",
    "print(\"Current Working Directory:\", os.getcwd())"
   ]
  },
  {
   "cell_type": "code",
   "execution_count": null,
   "id": "13c90a4c-2403-4303-a215-8207acfb9598",
   "metadata": {},
   "outputs": [
    {
     "name": "stderr",
     "output_type": "stream",
     "text": [
      "ERROR:cobra.io.sbml:'' is not a valid SBML 'SId'.\n"
     ]
    },
    {
     "name": "stdout",
     "output_type": "stream",
     "text": [
      "Loaded model for Alteromonas\n",
      "Loaded model for ecoli\n",
      "\n",
      "Simulation ID: a5a00058-2136-11ef-ab62-ba21c95c07d8\n",
      "Created: 06/02/2024 at 19:20:06\n"
     ]
    }
   ],
   "source": [
    "# Configuration\n",
    "total_time = 1\n",
    "config = {\n",
    "    'bounds': [10, 10],  # dimensions of the environment\n",
    "    'nbins': [10, 10],   # division into bins\n",
    "    'molecules': ['glucose', 'oxygen'],  # available molecules\n",
    "    'species_info': [\n",
    "        {\n",
    "            'name': 'Alteromonas',\n",
    "            'model': 'data/Alteromonas_Model.xml',  # Path to FBA model file\n",
    "            'diffusion_rate': 0.001,\n",
    "            'advection_vector': (0.0, -0.01),\n",
    "            'flux_id_map': {\n",
    "                'glucose': 'EX_cpd00027_e0',\n",
    "                'oxygen': 'EX_cpd00007_e0'\n",
    "            },\n",
    "            'kinetic_params': {\n",
    "                'glucose': (0.5, 2.0),  # Km, Vmax for glucose\n",
    "                'oxygen': (0.3, 5.0),   # Km, Vmax for oxygen\n",
    "            }\n",
    "        },\n",
    "        {\n",
    "            'name': 'ecoli',\n",
    "            'model': 'data/iECW_1372.xml',  # Path to E. coli model file\n",
    "            'diffusion_rate': 0.001,\n",
    "            'advection_vector': (0.0, -0.01),\n",
    "            'flux_id_map': {\n",
    "                'glucose': 'EX_glc__D_e',\n",
    "                'oxygen': 'EX_o2_e'\n",
    "            },\n",
    "            'kinetic_params': {\n",
    "                'glucose': (0.4, 1.5),  # Km, Vmax for glucose\n",
    "                'oxygen': (0.25, 4.5),  # Km, Vmax for oxygen\n",
    "            }\n",
    "        }\n",
    "    ]\n",
    "}\n",
    "\n",
    "# Initialize the process\n",
    "spatial_dfba = SpatialDFBA(config)\n",
    "initial_state = spatial_dfba.initial_state({'random': {'glucose': 5.0, 'oxygen': 2.0, 'species': {'ecoli': 0.5, 'Alteromonas': 0.5 }}})\n",
    "\n",
    "# Create the simulation engine\n",
    "sim = Engine(\n",
    "    initial_state=initial_state,\n",
    "    processes={'spatial_dfba': spatial_dfba},\n",
    "    topology={'spatial_dfba': {\n",
    "        'fields': ('fields',),\n",
    "        'species': ('species',),\n",
    "        'dimensions': ('dimensions',),\n",
    "    }}\n",
    ")\n",
    "\n",
    "# Run the simulation\n",
    "sim.update(total_time)\n",
    "\n",
    "# Get the results\n",
    "data = sim.emitter.get_timeseries()"
   ]
  },
  {
   "cell_type": "code",
   "execution_count": null,
   "id": "091a1daf-fe71-48bf-8cd0-178ec1b489dd",
   "metadata": {},
   "outputs": [],
   "source": [
    "data"
   ]
  },
  {
   "cell_type": "code",
   "execution_count": null,
   "id": "aefe8854-da40-4b9a-be1c-c0330a42643e",
   "metadata": {},
   "outputs": [],
   "source": []
  },
  {
   "cell_type": "code",
   "execution_count": 8,
   "id": "95c394af-0ac8-4d9e-8883-81e6d7907236",
   "metadata": {},
   "outputs": [],
   "source": [
    "# Plot the objective flux\n",
    "plot_objective_flux(\n",
    "    data,\n",
    "    time_points=[0, int(total_time/4), int(total_time/2), int(3*total_time/4), total_time-1],\n",
    "    species_names=[species['name'] for species in config['species_info']],\n",
    "    out_dir='./out',\n",
    "    filename='objective_flux_plot'\n",
    ")"
   ]
  },
  {
   "cell_type": "code",
   "execution_count": 10,
   "id": "69f6cf54-a6a2-49a7-bcb5-1ff9ed76d22f",
   "metadata": {},
   "outputs": [
    {
     "data": {
      "text/plain": [
       "<function plots.field.plot_objective_flux(data, time_points, species_names, out_dir='out', filename='objective_flux')>"
      ]
     },
     "execution_count": 10,
     "metadata": {},
     "output_type": "execute_result"
    }
   ],
   "source": [
    "plot_objective_flux"
   ]
  },
  {
   "cell_type": "code",
   "execution_count": 9,
   "id": "35b8c879-4b97-4546-9c8f-c62e78fb4586",
   "metadata": {},
   "outputs": [
    {
     "ename": "KeyError",
     "evalue": "'ecoli'",
     "output_type": "error",
     "traceback": [
      "\u001b[0;31m---------------------------------------------------------------------------\u001b[0m",
      "\u001b[0;31mKeyError\u001b[0m                                  Traceback (most recent call last)",
      "Cell \u001b[0;32mIn[9], line 67\u001b[0m\n\u001b[1;32m     64\u001b[0m \u001b[38;5;66;03m# Example usage\u001b[39;00m\n\u001b[1;32m     65\u001b[0m time_list \u001b[38;5;241m=\u001b[39m [i \u001b[38;5;28;01mfor\u001b[39;00m i \u001b[38;5;129;01min\u001b[39;00m \u001b[38;5;28mrange\u001b[39m(total_time)]\n\u001b[0;32m---> 67\u001b[0m \u001b[43mplot_fields_temporal_to_gif\u001b[49m\u001b[43m(\u001b[49m\n\u001b[1;32m     68\u001b[0m \u001b[43m    \u001b[49m\u001b[43mdata\u001b[49m\u001b[43m[\u001b[49m\u001b[38;5;124;43m'\u001b[39;49m\u001b[38;5;124;43mfields\u001b[39;49m\u001b[38;5;124;43m'\u001b[39;49m\u001b[43m]\u001b[49m\u001b[43m,\u001b[49m\u001b[43m \u001b[49m\n\u001b[1;32m     69\u001b[0m \u001b[43m    \u001b[49m\u001b[43mdesired_time_points\u001b[49m\u001b[38;5;241;43m=\u001b[39;49m\u001b[43mtime_list\u001b[49m\u001b[43m,\u001b[49m\u001b[43m \u001b[49m\n\u001b[1;32m     70\u001b[0m \u001b[43m    \u001b[49m\u001b[43mactual_time_points\u001b[49m\u001b[38;5;241;43m=\u001b[39;49m\u001b[43mtime_list\u001b[49m\u001b[43m,\u001b[49m\u001b[43m \u001b[49m\n\u001b[1;32m     71\u001b[0m \u001b[43m    \u001b[49m\u001b[43mfilename\u001b[49m\u001b[38;5;241;43m=\u001b[39;49m\u001b[38;5;124;43m'\u001b[39;49m\u001b[38;5;124;43mfields_over_time.gif\u001b[39;49m\u001b[38;5;124;43m'\u001b[39;49m\n\u001b[1;32m     72\u001b[0m \u001b[43m)\u001b[49m\n\u001b[1;32m     74\u001b[0m \u001b[38;5;28;01mdef\u001b[39;00m \u001b[38;5;21mdisplay_gif\u001b[39m(filename):\n\u001b[1;32m     75\u001b[0m     \u001b[38;5;28;01mwith\u001b[39;00m \u001b[38;5;28mopen\u001b[39m(filename, \u001b[38;5;124m'\u001b[39m\u001b[38;5;124mrb\u001b[39m\u001b[38;5;124m'\u001b[39m) \u001b[38;5;28;01mas\u001b[39;00m file:\n",
      "Cell \u001b[0;32mIn[9], line 35\u001b[0m, in \u001b[0;36mplot_fields_temporal_to_gif\u001b[0;34m(fields_data, desired_time_points, actual_time_points, filename, molecule_colormaps, plot_fields, skip_frames)\u001b[0m\n\u001b[1;32m     32\u001b[0m fig, axs \u001b[38;5;241m=\u001b[39m plt\u001b[38;5;241m.\u001b[39msubplots(\u001b[38;5;241m1\u001b[39m, num_molecules, figsize\u001b[38;5;241m=\u001b[39m(\u001b[38;5;241m10\u001b[39m, \u001b[38;5;241m5\u001b[39m), squeeze\u001b[38;5;241m=\u001b[39m\u001b[38;5;28;01mFalse\u001b[39;00m)\n\u001b[1;32m     34\u001b[0m \u001b[38;5;28;01mfor\u001b[39;00m mol_idx, molecule \u001b[38;5;129;01min\u001b[39;00m \u001b[38;5;28menumerate\u001b[39m(plot_fields):\n\u001b[0;32m---> 35\u001b[0m     data_array \u001b[38;5;241m=\u001b[39m np\u001b[38;5;241m.\u001b[39marray(\u001b[43mfields_data\u001b[49m\u001b[43m[\u001b[49m\u001b[43mmolecule\u001b[49m\u001b[43m]\u001b[49m[actual_idx])  \u001b[38;5;66;03m# Accessing the time-specific data\u001b[39;00m\n\u001b[1;32m     36\u001b[0m     ax \u001b[38;5;241m=\u001b[39m axs[\u001b[38;5;241m0\u001b[39m, mol_idx]\n\u001b[1;32m     37\u001b[0m     cmap \u001b[38;5;241m=\u001b[39m molecule_colormaps\u001b[38;5;241m.\u001b[39mget(molecule, \u001b[38;5;124m'\u001b[39m\u001b[38;5;124mviridis\u001b[39m\u001b[38;5;124m'\u001b[39m)  \u001b[38;5;66;03m# Default to 'viridis' if molecule not in dict\u001b[39;00m\n",
      "\u001b[0;31mKeyError\u001b[0m: 'ecoli'"
     ]
    },
    {
     "data": {
      "image/png": "[encoded data removed]",
      "text/plain": [
       "<Figure size 1000x500 with 5 Axes>"
      ]
     },
     "metadata": {},
     "output_type": "display_data"
    }
   ],
   "source": [
    "\n",
    "# Function to plot fields over time and save as GIF\n",
    "def plot_fields_temporal_to_gif(\n",
    "        fields_data,\n",
    "        desired_time_points,\n",
    "        actual_time_points,\n",
    "        filename='fields_over_time.gif',\n",
    "        molecule_colormaps={'glucose': 'YlOrBr', 'oxygen': 'Blues', 'ecoli': 'Purples'},\n",
    "        plot_fields=[\"glucose\", \"oxygen\", \"ecoli\"],\n",
    "        skip_frames=1\n",
    "):\n",
    "    if not os.path.exists('temp'):\n",
    "        os.makedirs('temp', exist_ok=True)\n",
    "\n",
    "    # Convert desired and actual time points to float for accurate indexing\n",
    "    desired_time_points = [float(time) for time in desired_time_points]\n",
    "    actual_time_points = [float(time) for time in actual_time_points]\n",
    "    num_molecules = len(plot_fields)\n",
    "    num_times = len(desired_time_points)\n",
    "    images = []\n",
    "\n",
    "    # Calculate global min/max for each molecule across all timepoints\n",
    "    global_min_max = {}\n",
    "    for molecule in fields_data.keys():\n",
    "        if molecule not in plot_fields:\n",
    "            continue\n",
    "        all_data = np.concatenate([np.array(times_data) for times_data in fields_data[molecule]], axis=0)\n",
    "        global_min_max[molecule] = (np.min(all_data), np.max(all_data))\n",
    "\n",
    "    for time_idx, desired_time in enumerate(desired_time_points):\n",
    "        if desired_time in actual_time_points:\n",
    "            actual_idx = actual_time_points.index(desired_time)\n",
    "            fig, axs = plt.subplots(1, num_molecules, figsize=(10, 5), squeeze=False)\n",
    "\n",
    "            for mol_idx, molecule in enumerate(plot_fields):\n",
    "                data_array = np.array(fields_data[molecule][actual_idx])  # Accessing the time-specific data\n",
    "                ax = axs[0, mol_idx]\n",
    "                cmap = molecule_colormaps.get(molecule, 'viridis')  # Default to 'viridis' if molecule not in dict\n",
    "                vmin, vmax = global_min_max[molecule]  # Use global min/max\n",
    "                cax = ax.imshow(data_array, cmap=cmap, interpolation='nearest', vmin=vmin, vmax=vmax)\n",
    "                ax.set_title(f'{molecule} at Time {desired_time}', fontsize=12)\n",
    "                ax.set_xticks([])\n",
    "                ax.set_yticks([])\n",
    "                # Add a colorbar for each subplot\n",
    "                cb = fig.colorbar(cax, ax=ax, fraction=0.046, pad=0.04)\n",
    "                cb.ax.tick_params(labelsize=10)\n",
    "\n",
    "            plt.tight_layout()\n",
    "            buf = io.BytesIO()\n",
    "            plt.savefig(buf, format='png', dpi=120)\n",
    "            buf.seek(0)\n",
    "            images.append(imageio.imread(buf))\n",
    "            buf.close()\n",
    "            plt.close(fig)\n",
    "\n",
    "    # Create and save the GIF with loop=0 for infinite loop\n",
    "    imageio.mimsave(filename, images, duration=0.5, loop=0)\n",
    "\n",
    "    # Optionally display the GIF in a Jupyter notebook\n",
    "    with open(filename, 'rb') as file:\n",
    "        data = file.read()\n",
    "        data_url = 'data:image/gif;base64,' + base64.b64encode(data).decode()\n",
    "    display(HTML(f'<img src=\"{data_url}\" alt=\"Fields Over Time\" style=\"max-width:100%;\"/>'))\n",
    "\n",
    "# Example usage\n",
    "time_list = [i for i in range(total_time)]\n",
    "\n",
    "plot_fields_temporal_to_gif(\n",
    "    data['fields'], \n",
    "    desired_time_points=time_list, \n",
    "    actual_time_points=time_list, \n",
    "    filename='fields_over_time.gif'\n",
    ")\n",
    "\n",
    "def display_gif(filename):\n",
    "    with open(filename, 'rb') as file:\n",
    "        data = file.read()\n",
    "        data_url = 'data:image/gif;base64,' + base64.b64encode(data).decode()\n",
    "    html_str = f'<img src=\"{data_url}\" alt=\"Fields Over Time\" style=\"max-width:100%;\"/><br/>'\n",
    "    html_str += f'<a href=\"{data_url}\" download=\"{filename}\">Download GIF</a>'\n",
    "    display(HTML(html_str))\n",
    "\n",
    "# Display the GIF\n",
    "display_gif('fields_over_time.gif')\n",
    "\n",
    "# Show topology plot\n",
    "from vivarium.plots.topology import plot_topology\n",
    "fig = plot_topology(spatial_dfba)\n",
    "plt.show()"
   ]
  },
  {
   "cell_type": "code",
   "execution_count": null,
   "id": "e8b1fb07-ffa1-495f-8397-4033f3dd3f09",
   "metadata": {},
   "outputs": [],
   "source": []
  }
 ],
 "metadata": {
  "kernelspec": {
   "display_name": "Python 3 (ipykernel)",
   "language": "python",
   "name": "python3"
  },
  "language_info": {
   "codemirror_mode": {
    "name": "ipython",
    "version": 3
   },
   "file_extension": ".py",
   "mimetype": "text/x-python",
   "name": "python",
   "nbconvert_exporter": "python",
   "pygments_lexer": "ipython3",
   "version": "3.11.5"
  }
 },
 "nbformat": 4,
 "nbformat_minor": 5
}
