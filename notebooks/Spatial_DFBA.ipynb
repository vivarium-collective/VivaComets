{
 "cells": [
  {
   "cell_type": "markdown",
   "id": "70505ff9-5ea5-4568-9365-35e6e3c469bc",
   "metadata": {},
   "source": [
    "# Spatial DFBA Model\n",
    "\n",
    "This notebook demonstrates a Spatial Dynamic Flux Balance Analysis (DFBA) model, simulating and visualizing biomass concentrations over time in a two-dimensional (2D) field. The model integrates diffusion, advection, and sinking mechanisms to show how these processes influence biomass distributions at each timestep across the grid bins.\n",
    "\n",
    "**Key components of the notebook:**\n",
    "- **Initialization**: Setting up the spatial environment with defined bounds, bins, and initial states for molecules and species.\n",
    "- **Process Simulation**: Using the `SpatialDFBA` class to simulate species growth based on local conditions and kinetic parameters.\n",
    "- **Diffusion and Advection**: Applying diffusion and advection processes to update molecule concentrations and biomass distributions.\n",
    "- **Visualization**: Plotting the objective flux and spatial fields to visualize biomass and molecule concentrations over time.\n",
    "\n",
    "Run the notebook to observe how different species interact and grow in a spatially heterogeneous environment, influenced by diffusion, advection, and sinking mechanisms.\n"
   ]
  },
  {
   "cell_type": "markdown",
   "id": "dd712d18-e9f7-4248-98f1-99e7c36b1ca7",
   "metadata": {},
   "source": [
    "## Imports"
   ]
  },
  {
   "cell_type": "code",
   "execution_count": 1,
   "id": "f82af0c9-9b10-423d-99fa-2c378067e1a2",
   "metadata": {},
   "outputs": [
    {
     "ename": "ModuleNotFoundError",
     "evalue": "No module named 'diffusion_field'",
     "output_type": "error",
     "traceback": [
      "\u001b[0;31m---------------------------------------------------------------------------\u001b[0m",
      "\u001b[0;31mModuleNotFoundError\u001b[0m                       Traceback (most recent call last)",
      "Cell \u001b[0;32mIn[1], line 5\u001b[0m\n\u001b[1;32m      3\u001b[0m \u001b[38;5;28;01mfrom\u001b[39;00m \u001b[38;5;21;01mmatplotlib\u001b[39;00m \u001b[38;5;28;01mimport\u001b[39;00m pyplot \u001b[38;5;28;01mas\u001b[39;00m plt\n\u001b[1;32m      4\u001b[0m \u001b[38;5;28;01mfrom\u001b[39;00m \u001b[38;5;21;01mvivarium\u001b[39;00m\u001b[38;5;21;01m.\u001b[39;00m\u001b[38;5;21;01mcore\u001b[39;00m\u001b[38;5;21;01m.\u001b[39;00m\u001b[38;5;21;01mengine\u001b[39;00m \u001b[38;5;28;01mimport\u001b[39;00m Engine\n\u001b[0;32m----> 5\u001b[0m \u001b[38;5;28;01mfrom\u001b[39;00m \u001b[38;5;21;01mprocesses\u001b[39;00m\u001b[38;5;21;01m.\u001b[39;00m\u001b[38;5;21;01mspatial_dfba\u001b[39;00m \u001b[38;5;28;01mimport\u001b[39;00m SpatialDFBA\n\u001b[1;32m      6\u001b[0m \u001b[38;5;28;01mfrom\u001b[39;00m \u001b[38;5;21;01mplots\u001b[39;00m\u001b[38;5;21;01m.\u001b[39;00m\u001b[38;5;21;01mfield\u001b[39;00m \u001b[38;5;28;01mimport\u001b[39;00m plot_objective_flux, plot_fields_temporal\n\u001b[1;32m      7\u001b[0m \u001b[38;5;28;01mfrom\u001b[39;00m \u001b[38;5;21;01mIPython\u001b[39;00m\u001b[38;5;21;01m.\u001b[39;00m\u001b[38;5;21;01mdisplay\u001b[39;00m \u001b[38;5;28;01mimport\u001b[39;00m display, HTML\n",
      "File \u001b[0;32m~/Desktop/VivaComet/myenv/lib/python3.11/site-packages/processes/spatial_dfba.py:19\u001b[0m\n\u001b[1;32m     16\u001b[0m     sys\u001b[38;5;241m.\u001b[39mpath\u001b[38;5;241m.\u001b[39minsert(\u001b[38;5;241m0\u001b[39m, processes_dir)\n\u001b[1;32m     18\u001b[0m \u001b[38;5;66;03m# Now import get_bin_volume from the local processes directory\u001b[39;00m\n\u001b[0;32m---> 19\u001b[0m \u001b[38;5;28;01mfrom\u001b[39;00m \u001b[38;5;21;01mdiffusion_field\u001b[39;00m \u001b[38;5;28;01mimport\u001b[39;00m get_bin_volume\n\u001b[1;32m     21\u001b[0m \u001b[38;5;66;03m# Check the path of the module where get_bin_volume is imported from\u001b[39;00m\n\u001b[1;32m     22\u001b[0m get_bin_volume_path \u001b[38;5;241m=\u001b[39m inspect\u001b[38;5;241m.\u001b[39mgetfile(get_bin_volume)\n",
      "\u001b[0;31mModuleNotFoundError\u001b[0m: No module named 'diffusion_field'"
     ]
    }
   ],
   "source": [
    "import os\n",
    "import numpy as np\n",
    "from matplotlib import pyplot as plt\n",
    "from vivarium.core.engine import Engine\n",
    "from processes.spatial_dfba import SpatialDFBA\n",
    "from plots.field import plot_objective_flux, plot_fields_temporal\n",
    "from IPython.display import display, HTML\n",
    "import imageio.v2 as imageio\n",
    "import io\n",
    "import base64\n",
    "import imageio"
   ]
  },
  {
   "cell_type": "code",
   "execution_count": 2,
   "id": "9ea7c25e-30f0-4de8-b959-760805a10cf6",
   "metadata": {},
   "outputs": [
    {
     "name": "stdout",
     "output_type": "stream",
     "text": [
      "Current Working Directory: /Users/amin/Desktop/VivaComet\n"
     ]
    }
   ],
   "source": [
    "### XXXXX FIX THIS ISSUE #####\n",
    "base_directory = '/Users/amin/Desktop/VivaComet'\n",
    "os.chdir(base_directory)\n",
    "\n",
    "# Check the current working directory to confirm it's set correctly\n",
    "print(\"Current Working Directory:\", os.getcwd())\n",
    "###############"
   ]
  },
  {
   "cell_type": "code",
   "execution_count": null,
   "id": "7fd51e04-6898-4d96-9991-7b1cbe3075e4",
   "metadata": {},
   "outputs": [
    {
     "name": "stdout",
     "output_type": "stream",
     "text": [
      "Loaded model for Ecoli\n",
      "Loaded model for ecoli1\n",
      "\n",
      "Simulation ID: 5c4b8d52-21e8-11ef-9869-ba21c95c07d8\n",
      "Created: 06/03/2024 at 16:32:13\n"
     ]
    }
   ],
   "source": [
    "# Configuration\n",
    "total_time = 200\n",
    "config = {\n",
    "    'bounds': [10, 10],  # dimensions of the environment\n",
    "    'nbins': [2, 2],   # division into bins\n",
    "    'molecules': ['glucose', 'oxygen'],  # available molecules\n",
    "    'species_info': [\n",
    "        {\n",
    "            'name': \"Alteromonas\",\n",
    "            'model': 'data/Alteromonas_Model.xml',  # Path to FBA model file\n",
    "            'flux_id_map': {\n",
    "                'glucose': 'EX_cpd00027_e0',\n",
    "                'oxygen': 'EX_cpd00007_e0'\n",
    "            },\n",
    "            'kinetic_params': {\n",
    "                'glucose': (0.5, 0.0005),  # Km, Vmax for glucose\n",
    "                'oxygen': (0.3, 0.0005),   # Km, Vmax for oxygen\n",
    "            }\n",
    "        },\n",
    "        {\n",
    "            'name': 'ecoli1',\n",
    "            'model': 'data/iECW_1372.xml',  # Path to E. coli model file\n",
    "            'flux_id_map': {\n",
    "                'glucose': 'EX_glc__D_e',\n",
    "                'oxygen': 'EX_o2_e'\n",
    "            },\n",
    "            'kinetic_params': {\n",
    "                'glucose': (0.4, 0.09),  # Km, Vmax for glucose\n",
    "                'oxygen': (0.25, 0.6),  # Km, Vmax for oxygen\n",
    "            }\n",
    "        }\n",
    "    ]\n",
    "}\n",
    "\n",
    "# Initialize the process\n",
    "spatial_dfba = SpatialDFBA(config)\n",
    "\n",
    "# Initial state configuration\n",
    "initial_state_config = {\n",
    "    'random': {\n",
    "        'glucose': 200.0,\n",
    "        'oxygen': 200.0,\n",
    "        'species': {\n",
    "            'ecoli1': 0.5,\n",
    "            'Ecoli': 0.5\n",
    "        }\n",
    "    }\n",
    "}\n",
    "\n",
    "# Create the initial state\n",
    "initial_state = spatial_dfba.initial_state(initial_state_config)\n",
    "\n",
    "# Create the simulation engine\n",
    "sim = Engine(\n",
    "    initial_state=initial_state,\n",
    "    processes={'spatial_dfba': spatial_dfba},\n",
    "    topology={'spatial_dfba': {\n",
    "        'fields': ('fields',),\n",
    "        'species': ('species',),\n",
    "        'dimensions': ('dimensions',),\n",
    "    }}\n",
    ")\n",
    "\n",
    "# Run the simulation\n",
    "sim.update(total_time)\n",
    "\n",
    "# Get the results\n",
    "data = sim.emitter.get_timeseries()"
   ]
  },
  {
   "cell_type": "code",
   "execution_count": null,
   "id": "c389f6db-78df-4bfa-84bd-5c6e22bbb749",
   "metadata": {},
   "outputs": [],
   "source": [
    "\n",
    "def plot_objective_flux_to_gif(\n",
    "        data,\n",
    "        total_time,\n",
    "        species_names,\n",
    "        filename='objective_flux_over_time.gif'\n",
    "):\n",
    "    available_time_points = data[\"time\"]\n",
    "    valid_time_points = list(range(total_time + 1))\n",
    "\n",
    "    num_species = len(species_names)\n",
    "    num_times = len(valid_time_points)\n",
    "    images = []\n",
    "\n",
    "    # Calculate global min and max for each species and total biomass\n",
    "    global_min = [np.inf] * (num_species + 1)  # +1 for total biomass\n",
    "    global_max = [-np.inf] * (num_species + 1)\n",
    "\n",
    "    # Precompute global min/max for species and total biomass\n",
    "    for time in valid_time_points:\n",
    "        time_index = data[\"time\"].index(time)\n",
    "        total_biomass = np.zeros_like(data[\"species\"][species_names[0]][time_index])\n",
    "\n",
    "        for j, species_id in enumerate(species_names):\n",
    "            current_species = data[\"species\"][species_id][time_index]\n",
    "            total_biomass += current_species\n",
    "            global_min[j] = min(global_min[j], np.min(current_species))\n",
    "            global_max[j] = max(global_max[j], np.max(current_species))\n",
    "\n",
    "        # Update total biomass global min and max\n",
    "        global_min[-1] = min(global_min[-1], np.min(total_biomass))\n",
    "        global_max[-1] = max(global_max[-1], np.max(total_biomass))\n",
    "\n",
    "    # Plotting each species and total biomass for each time\n",
    "    for time in valid_time_points:\n",
    "        time_index = data[\"time\"].index(time)\n",
    "        total_biomass = np.zeros_like(data[\"species\"][species_names[0]][time_index])\n",
    "        fig, axs = plt.subplots(1, num_species + 1, figsize=(num_species * 5, 5), squeeze=False)\n",
    "\n",
    "        for j, species_id in enumerate(species_names):\n",
    "            current_species = data[\"species\"][species_id][time_index]\n",
    "            total_biomass += current_species\n",
    "            im = axs[0, j].imshow(current_species, cmap='viridis', vmin=global_min[j], vmax=global_max[j])\n",
    "            axs[0, j].set_title(species_id)\n",
    "            axs[0, j].set_xticks([])\n",
    "            axs[0, j].set_yticks([])\n",
    "            plt.colorbar(im, ax=axs[0, j], fraction=0.046, pad=0.04)\n",
    "\n",
    "        # Plot total biomass in the last column\n",
    "        im = axs[0, -1].imshow(total_biomass, cmap='viridis', vmin=global_min[-1], vmax=global_max[-1])\n",
    "        axs[0, -1].set_title(\"Total Biomass\")\n",
    "        axs[0, -1].set_xticks([])\n",
    "        axs[0, -1].set_yticks([])\n",
    "        plt.colorbar(im, ax=axs[0, -1], fraction=0.046, pad=0.04)\n",
    "\n",
    "        # Add the current time as text\n",
    "        plt.suptitle(f'Time: {time}', fontsize=16)\n",
    "\n",
    "        plt.tight_layout()\n",
    "        buf = io.BytesIO()\n",
    "        plt.savefig(buf, format='png', dpi=120)\n",
    "        buf.seek(0)\n",
    "        images.append(imageio.imread(buf))\n",
    "        buf.close()\n",
    "        plt.close(fig)\n",
    "\n",
    "    # Create and save the GIF with loop=0 for infinite loop\n",
    "    imageio.mimsave(filename, images, duration=0.5, loop=0)\n",
    "\n",
    "    # Optionally display the GIF in a Jupyter notebook\n",
    "    with open(filename, 'rb') as file:\n",
    "        data = file.read()\n",
    "        data_url = 'data:image/gif;base64,' + base64.b64encode(data).decode()\n",
    "    display(HTML(f'<img src=\"{data_url}\" alt=\"Objective Flux Over Time\" style=\"max-width:100%;\"/>'))\n",
    "\n",
    "# Example usage\n",
    "# Ensure to use time points that exist in your data\n",
    "plot_objective_flux_to_gif(data, total_time=200, species_names=['ecoli1', 'Ecoli'])\n",
    "\n",
    "def display_gif(filename):\n",
    "    with open(filename, 'rb') as file:\n",
    "        data = file.read()\n",
    "        data_url = 'data:image/gif;base64,' + base64.b64encode(data).decode()\n",
    "    html_str = f'<img src=\"{data_url}\" alt=\"Fields Over Time\" style=\"max-width:100%;\"/><br/>'\n",
    "    html_str += f'<a href=\"{data_url}\" download=\"{filename}\">Download GIF</a>'\n",
    "    display(HTML(html_str))\n",
    "\n",
    "# Display the GIF\n",
    "# display_gif('objective_flux_over_time.gif')\n"
   ]
  },
  {
   "cell_type": "code",
   "execution_count": null,
   "id": "18ff72cf-3308-44fa-ab65-09bb0a0521a4",
   "metadata": {},
   "outputs": [],
   "source": [
    "t=0"
   ]
  },
  {
   "cell_type": "code",
   "execution_count": null,
   "id": "cc0962ef-67a4-414d-b1e5-4176d21ae52a",
   "metadata": {},
   "outputs": [],
   "source": [
    "t=2\n",
    "d=[data[\"species\"][\"Ecoli\"][t][-1][-1] for t in range(201)]\n",
    "d"
   ]
  },
  {
   "cell_type": "code",
   "execution_count": null,
   "id": "c6c795b8-62f7-48b9-a774-a61f209ab88c",
   "metadata": {},
   "outputs": [],
   "source": [
    "f= [data[\"fields\"][\"glucose\"][t][0][0] for t in range(201)]\n",
    "f"
   ]
  },
  {
   "cell_type": "code",
   "execution_count": null,
   "id": "5cb34775-ab91-41d8-9abd-03b4c8978aba",
   "metadata": {},
   "outputs": [],
   "source": []
  },
  {
   "cell_type": "code",
   "execution_count": null,
   "id": "970b3338-dc53-4894-8006-881ceef24ea0",
   "metadata": {},
   "outputs": [],
   "source": []
  },
  {
   "cell_type": "code",
   "execution_count": null,
   "id": "0ddede87-8aba-484d-9f1d-33581787ce9f",
   "metadata": {},
   "outputs": [],
   "source": []
  }
 ],
 "metadata": {
  "kernelspec": {
   "display_name": "Python 3 (ipykernel)",
   "language": "python",
   "name": "python3"
  },
  "language_info": {
   "codemirror_mode": {
    "name": "ipython",
    "version": 3
   },
   "file_extension": ".py",
   "mimetype": "text/x-python",
   "name": "python",
   "nbconvert_exporter": "python",
   "pygments_lexer": "ipython3",
   "version": "3.11.5"
  }
 },
 "nbformat": 4,
 "nbformat_minor": 5
}
